{
 "cells": [
  {
   "cell_type": "markdown",
   "metadata": {
    "editable": true,
    "slideshow": {
     "slide_type": ""
    },
    "tags": []
   },
   "source": [
    "# Workshop 1: Representing Signals and Sampling\n",
    "\n",
    "This notebook is the Python version of the Fourier Synthesis part of Workshop 1.\n"
   ]
  },
  {
   "cell_type": "markdown",
   "metadata": {},
   "source": [
    "# Fourier Synthesis\n",
    "## Simple Sinusoid\n",
    "\n",
    "The most basic waveform is the sinusoidal waveform which is used as a building block to construct all other periodic waveforms. We will use the NumPy module and create a sine wave . The code below represents an audio signal with an amplitude of 9V and frequency 50Hz."
   ]
  },
  {
   "cell_type": "code",
   "execution_count": null,
   "metadata": {},
   "outputs": [],
   "source": [
    "# Import libraries\n",
    "import numpy as np\n",
    "import matplotlib.pyplot as plt\n",
    "\n",
    "# create sine wave\n",
    "A = 9\n",
    "f = 50\n",
    "w = 2 * np.pi * f\n",
    "ts = np.linspace(0, 0.1, num=101)\n",
    "sin_sig = A * np.sin(w * ts)\n",
    "print(f\"Period: {1./f} sec\")"
   ]
  },
  {
   "cell_type": "markdown",
   "metadata": {},
   "source": [
    "Plot the sine signal using functions from `matplotlib`"
   ]
  },
  {
   "cell_type": "code",
   "execution_count": null,
   "metadata": {},
   "outputs": [],
   "source": [
    "fig, ax = plt.subplots(tight_layout=True)\n",
    "ax.plot(ts, sin_sig)\n",
    "ax.grid(False)  # turn off grid\n",
    "ax.set_title(f\"{f}Hz sinusoid with amplitude of {A}V\")\n",
    "ax.set(\n",
    "    xlabel=\"time (s)\",\n",
    "    ylabel=\"Amplitude\",\n",
    "    yticks=np.arange(-10, 10, step=2),\n",
    ")"
   ]
  },
  {
   "cell_type": "markdown",
   "metadata": {},
   "source": [
    "Now your task is to complete the cells below to show the impact of varying the values of A (amplitude) and f (frequency)."
   ]
  },
  {
   "cell_type": "markdown",
   "metadata": {},
   "source": [
    "### Test varying A\n",
    "What does this represent?\n",
    "\n",
    "**Answer**"
   ]
  },
  {
   "cell_type": "code",
   "execution_count": null,
   "metadata": {},
   "outputs": [],
   "source": [
    "# Write code in here\n",
    "import numpy as np\n",
    "import matplotlib.pyplot as plt"
   ]
  },
  {
   "cell_type": "markdown",
   "metadata": {},
   "source": [
    "### Test varying f\n",
    "What does this represent?\n",
    "\n",
    "**Answer**"
   ]
  },
  {
   "cell_type": "code",
   "execution_count": null,
   "metadata": {},
   "outputs": [],
   "source": [
    "# Write code in here\n",
    "import numpy as np\n",
    "import matplotlib.pyplot as plt"
   ]
  },
  {
   "cell_type": "markdown",
   "metadata": {},
   "source": [
    "## Fourier Synthesis of a Square Wave\n",
    "Jean Baptiste Joseph Fourier first demonstrated the construction of complex waveforms from simple sinusoidal components. Fourier synthesis became one of the major techniques used in synthesising musical sounds and other periodic waveforms.\n",
    "The code below shows you the first 7 steps of this:"
   ]
  },
  {
   "cell_type": "code",
   "execution_count": null,
   "metadata": {},
   "outputs": [],
   "source": [
    "# Write code in here\n",
    "import numpy as np\n",
    "import matplotlib.pyplot as plt\n",
    "\n",
    "f = 50\n",
    "A = 1\n",
    "w = 2 * np.pi * f\n",
    "ts = np.linspace(0, 0.02, num=201)\n",
    "x1 = A * np.cos(w * ts)\n",
    "fig, ax = plt.subplots(tight_layout=True)\n",
    "ax.plot(ts, x1)\n",
    "ax.grid(False)  # turn off grid\n",
    "ax.set_title(\"n = 1\")"
   ]
  },
  {
   "cell_type": "code",
   "execution_count": null,
   "metadata": {},
   "outputs": [],
   "source": [
    "x2 = x1 - (1 / 3 * np.cos(3 * w * ts))\n",
    "fig, ax = plt.subplots(tight_layout=True)\n",
    "ax.plot(ts, x2)\n",
    "ax.grid(False)  # turn off grid\n",
    "ax.set_title(\"n = 3\")"
   ]
  },
  {
   "cell_type": "code",
   "execution_count": null,
   "metadata": {},
   "outputs": [],
   "source": [
    "x3 = x2 + (1 / 5 * np.cos(5 * w * ts))\n",
    "fig, ax = plt.subplots(tight_layout=True)\n",
    "ax.plot(ts, x3)\n",
    "ax.grid(False)  # turn off grid\n",
    "ax.set_title(\"n = 5\")"
   ]
  },
  {
   "cell_type": "code",
   "execution_count": null,
   "metadata": {},
   "outputs": [],
   "source": [
    "x4 = x3 - (1 / 7 * np.cos(7 * w * ts))\n",
    "fig, ax = plt.subplots(tight_layout=True)\n",
    "ax.plot(ts, x4)\n",
    "ax.grid(False)  # turn off grid\n",
    "ax.set_title(\"n = 7\")"
   ]
  },
  {
   "cell_type": "code",
   "execution_count": null,
   "metadata": {},
   "outputs": [],
   "source": [
    "x5 = x4 + (1 / 9 * np.cos(9 * w * ts))\n",
    "fig, ax = plt.subplots(tight_layout=True)\n",
    "ax.plot(ts, x5)\n",
    "ax.grid(False)  # turn off grid\n",
    "ax.set_title(\"n = 9\")"
   ]
  },
  {
   "cell_type": "code",
   "execution_count": null,
   "metadata": {},
   "outputs": [],
   "source": [
    "x6 = x5 - (1 / 11 * np.cos(11 * w * ts))\n",
    "fig, ax = plt.subplots(tight_layout=True)\n",
    "ax.plot(ts, x6)\n",
    "ax.grid(False)  # turn off grid\n",
    "ax.set_title(\"n = 11\")"
   ]
  },
  {
   "cell_type": "code",
   "execution_count": null,
   "metadata": {},
   "outputs": [],
   "source": [
    "x7 = x6 + (1 / 13 * np.cos(13 * w * ts))\n",
    "fig, ax = plt.subplots(tight_layout=True)\n",
    "ax.plot(ts, x7)\n",
    "ax.grid(False)  # turn off grid\n",
    "ax.set_title(\"n = 13\")"
   ]
  },
  {
   "cell_type": "code",
   "execution_count": null,
   "metadata": {},
   "outputs": [],
   "source": [
    "# plot all results on one plot\n",
    "fig, ax = plt.subplots(1, 1)\n",
    "ax.plot(ts, x1, label=\"n=1\")\n",
    "ax.plot(ts, x2, label=\"n=3\")\n",
    "ax.plot(ts, x3, label=\"n=5\")\n",
    "ax.plot(ts, x4, label=\"n=7\")\n",
    "ax.plot(ts, x5, label=\"n=9\")\n",
    "ax.plot(ts, x6, label=\"n=11\")\n",
    "ax.plot(ts, x7, label=\"n=13\")\n",
    "\n",
    "ax.grid(False)\n",
    "ax.legend(loc=\"best\")\n",
    "# Label the plot\n",
    "fig.suptitle(\n",
    "    f\"Fourier Synthesis of Square wave with f={f}Hz\",\n",
    ")\n",
    "\n",
    "# Label the axes\n",
    "fig.supxlabel(\"time(s)\")\n",
    "fig.supylabel(\"Amplitude\")"
   ]
  },
  {
   "cell_type": "markdown",
   "metadata": {},
   "source": [
    "#### Questions\n",
    "1. Identify the ‘fundamental’, this will determine the pitch of the waveform.\n",
    "2.\tWhich harmonics are included in the square wave and what are the weighting factors (amplitudes) of each harmonic?\n",
    "3.\tWhat happens as you increase the number of components, and is there a limit to the accuracy with which you can represent a perfect square wave? (Google “Gibbs phenomenon” to find out more.)\n"
   ]
  },
  {
   "cell_type": "markdown",
   "metadata": {},
   "source": [
    "**Answers**\n",
    "\n",
    "1.\n",
    "2.\n",
    "3."
   ]
  },
  {
   "cell_type": "code",
   "execution_count": null,
   "metadata": {},
   "outputs": [],
   "source": [
    "# code for answer 3"
   ]
  },
  {
   "cell_type": "markdown",
   "metadata": {},
   "source": [
    "## Fourier Synthesis of a Sawtooth Waveform\n",
    "\n",
    "Write your own section of code (or modify the square wave code given) to generate a sawtooth waveform, given that the sawtooth contains both odd and even harmonics with weighting factors: 1, $-\\frac{1}{2}$, $\\frac{1}{3}$, $-\\frac{1}{4}$ etc. You will will find that using a cos function does not give a sawtooth appearance, whereas a sin function does — can you explain why? Obtain plots to show the progressive approximation of the synthesised waveform to a perfect sawtooth as more harmonic components are added."
   ]
  },
  {
   "cell_type": "markdown",
   "metadata": {},
   "source": [
    "**Written Answers**\n",
    "\n",
    "Why do we use sine not cosine?"
   ]
  },
  {
   "cell_type": "code",
   "execution_count": null,
   "metadata": {},
   "outputs": [],
   "source": [
    "# code for sawtooth synthesis"
   ]
  },
  {
   "cell_type": "markdown",
   "metadata": {},
   "source": [
    "## Fourier Synthesis of a Triangle Waveform\n",
    "\n",
    "Find out the weighting factors (coefficients) to synthesise a triangle wave. Rewrite the code and capture plots, as before, to show the progressive approximation towards a triangle wave."
   ]
  },
  {
   "cell_type": "code",
   "execution_count": null,
   "metadata": {},
   "outputs": [],
   "source": [
    "# code for triangle synthesis"
   ]
  }
 ],
 "metadata": {
  "jupytext": {
   "formats": "ipynb,md:myst"
  },
  "kernelspec": {
   "display_name": "jupyter",
   "language": "python",
   "name": "python3"
  },
  "language_info": {
   "codemirror_mode": {
    "name": "ipython",
    "version": 3
   },
   "file_extension": ".py",
   "mimetype": "text/x-python",
   "name": "python",
   "nbconvert_exporter": "python",
   "pygments_lexer": "ipython3",
   "version": "3.13.5"
  }
 },
 "nbformat": 4,
 "nbformat_minor": 4
}
