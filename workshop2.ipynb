{
 "cells": [
  {
   "cell_type": "markdown",
   "id": "e6b1c825-cc9e-4fd5-8439-1654c12ec00b",
   "metadata": {},
   "source": [
    "# Workshop 2: Moving Average Filter"
   ]
  },
  {
   "cell_type": "markdown",
   "id": "cf4696d2-1686-410f-a66a-f150bdde4727",
   "metadata": {},
   "source": [
    "## Introduction\n",
    "\n",
    "The moving average filter is one of the most popular filters in DSP. It can be used very effectively to reduce random fluctuations that appear as unwanted noise superimposed on a lower frequency signal. A moving average filter can be implemented very easily and executed comparatively quickly."
   ]
  },
  {
   "attachments": {},
   "cell_type": "markdown",
   "id": "30567cae-7ecc-4855-9164-82b040644331",
   "metadata": {},
   "source": [
    "## Moving average filter \n",
    "\n",
    "\n",
    "<img src=\"images/workshop2figs-1.png\" width=600 alt=\"Fuel sensor level average\">\n",
    "\n",
    "The image above shows the varying output of a fuel level sensor in a moving vehicle (Meade & Dillon, 1991). The movement of the vehicle causes unwanted fluctuations in the output of the sensor compared to the measurement of the vehicle at rest.\n",
    "\n",
    "<img src=\"images/lecture1figs-3.png\" width=600 alt=\"Moving average filters\">\n",
    "\n",
    "\n",
    "Your first challenge is to continue the code below to create a moving average filter on the x data based on the non-recursive filter shown above. "
   ]
  },
  {
   "cell_type": "code",
   "execution_count": null,
   "id": "08613d0e-7a5f-476e-81d3-ddba6498ca7b",
   "metadata": {},
   "outputs": [],
   "source": [
    "# moving average filter\n",
    "import matplotlib.pyplot as plt\n",
    "import numpy as np\n",
    "\n",
    "n = np.linspace(-1, 8, 10, dtype=int)\n",
    "x = np.array(\n",
    "    [3.2, 4.0, 5.0, 3.6, 3.1, 4.2, 5.5, 3.7, 5.0, 5.6]\n",
    ")\n",
    "\n",
    "# TO DO: create filter - use a function so def moving_average(x, n=2): where n is number of taps\n",
    "\n",
    "# plot\n",
    "plt.style.use(\"_mpl-gallery\")  # plot style\n",
    "fig, ax = plt.subplots(figsize=(6, 4))  # size of plot\n",
    "ax.grid(False)  # turn off grid\n",
    "# next four lines remove external box and make axes the traditonal crossing at 0\n",
    "ax.spines[\"left\"].set_position(\"zero\")\n",
    "ax.spines[\"bottom\"].set_position(\"zero\")\n",
    "ax.spines[\"right\"].set_color(\"none\")\n",
    "ax.spines[\"top\"].set_color(\"none\")\n",
    "# this is stem plot\n",
    "ax.stem(n, x)\n",
    "# set limits for x axis, x ticks, y axis limits and y ticks\n",
    "ax.set(\n",
    "    xlim=(-1.5, 8.5),\n",
    "    xticks=np.arange(-1, 9),\n",
    "    ylim=(0, 6.2),\n",
    "    yticks=np.arange(0, 7),\n",
    ")\n",
    "# set axis labels - moving y label to top and be horizontal text - default is centre and vertical\n",
    "ax.set_xlabel(\"n\")\n",
    "ax.set_ylabel(\"x[n]\", loc=\"top\", rotation=\"horizontal\")\n",
    "# TO DO: add plot of filter\n",
    "plt.show()  # this shows plot"
   ]
  },
  {
   "cell_type": "markdown",
   "id": "8671e417-28a1-47a2-872e-588f689e34bf",
   "metadata": {},
   "source": [
    "Having got you moving average filter working does it show a more reliable indication of fuel in the tank?\n",
    "\n",
    "*Answer*\n",
    "\n"
   ]
  },
  {
   "cell_type": "markdown",
   "id": "72c3071e-c71e-4a29-9c65-b9137cd70cf7",
   "metadata": {},
   "source": [
    "1. Now add some more values to represent a typical car journey.\n",
    "2. Experiment with different numbers of taps in your filter.\n",
    "3. Evaluate your results."
   ]
  },
  {
   "cell_type": "code",
   "execution_count": null,
   "id": "f99bb70a-c3f8-48a8-ae77-6b4a7aabc080",
   "metadata": {},
   "outputs": [],
   "source": [
    "# Q1 - what are the additonal values"
   ]
  },
  {
   "cell_type": "code",
   "execution_count": null,
   "id": "b426d5d3-9da8-4f43-bd4f-913aafc33f71",
   "metadata": {},
   "outputs": [],
   "source": [
    "# Q2 - different taps - code block for each filter - if you created a Python function for moving average filter this should not be difficult"
   ]
  },
  {
   "cell_type": "markdown",
   "id": "05b9b5be-7073-468c-bf41-fcfe67216c62",
   "metadata": {},
   "source": [
    "#### Q3 answer\n",
    "\n",
    "*evaluation of results*"
   ]
  },
  {
   "attachments": {},
   "cell_type": "markdown",
   "id": "a358f809-56d0-40c5-8773-435e7d6f5448",
   "metadata": {},
   "source": [
    "## Filter a slowly varying signal\n",
    "\n",
    "<img src=\"images/lecture1figs-4.png\" width=600 alt=\"Block diagram symbols\">\n",
    "\n",
    "4. Find a suitable set of slowly accumulating data from an everyday field that interests you – e.g. financial data, DSP sales, weather data, medical statistics, crime/accident figures, sports results etc.\n",
    "2. Create your own moving average filter to remove the short-term fluctuations and uncover any underlying, long-term trend. *Answer in code block below* \n",
    "3. Explain the rationale for your filter design, including your choice of the number of taps. Draw a system block diagram using the symbols above. Discuss your results. *Answer in markdown block below code*\n",
    "   "
   ]
  },
  {
   "cell_type": "markdown",
   "id": "3580ad66-be6b-4a2a-a4f3-5039b91df867",
   "metadata": {},
   "source": [
    "#### Q4 answer\n",
    "\n",
    "*Where did you find the data*:\n",
    "\n",
    "*What is it*: \n",
    "   "
   ]
  },
  {
   "cell_type": "code",
   "execution_count": null,
   "id": "9757ef6a-dbc3-4679-b51b-c30adf893bf5",
   "metadata": {},
   "outputs": [],
   "source": [
    "# Q5 code for filter"
   ]
  },
  {
   "cell_type": "markdown",
   "id": "407493c4-aa6d-4ceb-b6bd-e617bad66fbd",
   "metadata": {},
   "source": [
    "#### Q6 answer\n",
    "\n",
    "*Design rationale*:\n",
    "\n",
    "*Block Diagram*:\n",
    "\n",
    "*Results discussion*:"
   ]
  },
  {
   "cell_type": "markdown",
   "id": "0da4ac9e-dbdf-463f-9f2e-4a9d2990dc45",
   "metadata": {},
   "source": [
    "## Requirements for a high speed, real-time filter\n",
    "\n",
    "7. Now choose a different area of application to explore the use of a digital filter for signals that vary on an extremely rapid timescale. What timescale becomes challenging for current DSP technologies?\n",
    "2. Use Python to investigate and evaluate a suitable approach for your chosen high speed application. Demonstrate and critically evaluate your results using a sample of typical data.\n",
    "3. Discuss whether a DSP device or FPGA would be required for real-time implementation, and analyse the specific requirements that would need to be met. Suggest, with reasons, a possible choice of device."
   ]
  },
  {
   "cell_type": "markdown",
   "id": "f4adf467-80c7-4326-acc3-e2158ce8bc38",
   "metadata": {},
   "source": [
    "#### Q7 answer\n",
    "\n",
    "*What is your application*:"
   ]
  },
  {
   "cell_type": "code",
   "execution_count": null,
   "id": "d9d0441e-422e-4374-8d90-b67463677227",
   "metadata": {},
   "outputs": [],
   "source": [
    "# Q8 code for filter"
   ]
  },
  {
   "cell_type": "markdown",
   "id": "f5091e09-f3e3-4970-ba93-aabc8478ac74",
   "metadata": {},
   "source": [
    "#### Q8: Evaluation of results\n",
    "\n",
    "*What do results of Python code show*:"
   ]
  },
  {
   "cell_type": "markdown",
   "id": "4d1f154e-db69-4a5a-96ad-321d2b735dbc",
   "metadata": {},
   "source": [
    "#### Q9 answer\n",
    "\n",
    "**DSP device or FPGA - and why*:"
   ]
  },
  {
   "cell_type": "markdown",
   "id": "e56ecb77-a7c5-4cb2-9e6e-b0579fee2d89",
   "metadata": {},
   "source": [
    "## Reference\n",
    "\n",
    "Meade, M. L. & Dillon, C. R. (1991) Signals and Systems. Springer Science & Business Media."
   ]
  }
 ],
 "metadata": {
  "kernelspec": {
   "display_name": "jupyter",
   "language": "python",
   "name": "python3"
  },
  "language_info": {
   "codemirror_mode": {
    "name": "ipython",
    "version": 3
   },
   "file_extension": ".py",
   "mimetype": "text/x-python",
   "name": "python",
   "nbconvert_exporter": "python",
   "pygments_lexer": "ipython3",
   "version": "3.13.2"
  }
 },
 "nbformat": 4,
 "nbformat_minor": 5
}
