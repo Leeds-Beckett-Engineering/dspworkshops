{
 "cells": [
  {
   "cell_type": "markdown",
   "id": "188fe2c7-a237-4a16-bae4-42b0183678ca",
   "metadata": {},
   "source": [
    "# Workshop 4: Fast Fourier Transform\n",
    "\n",
    "## Introduction\n",
    "\n",
    "This workshop looks at how we can use the Fast Fourier Transform (FFT) to look at some different types of signal in the frequency domain. The introduction of the FFT algorithm by J. W. Cooley and J. W. Tukey in 1965 revolutionised approaches to signal processing. The FFT enables faster processing of real-time data, and is utilised in many everyday digital devices. \n",
    "\n",
    "In Python, SciPy has a module [`fft`](https://docs.scipy.org/doc/scipy/reference/fft.html) which has functions for many different discrete transforms. Indeed there is a SciPy [FFT tutorial](https://docs.scipy.org/doc/scipy/tutorial/fft.html) which looks at the theory of the transforms as well as discussing how they can be used."
   ]
  },
  {
   "cell_type": "markdown",
   "id": "5d8b30bc-9eaf-48bb-aa30-26041760a914",
   "metadata": {
    "editable": true,
    "slideshow": {
     "slide_type": ""
    },
    "tags": []
   },
   "source": [
    "## Mystery Signal\n",
    "\n",
    "<img src=\"images/workshop4figs1-1.png\" width=600 alt=\"Mystery signal - relationship between time and frequency domains\">"
   ]
  },
  {
   "cell_type": "markdown",
   "id": "24fc4a03-e3b2-46d4-8c3a-47dcf86c1552",
   "metadata": {},
   "source": [
    "Discuss whether the mystery signal (time domain) shown above appears periodic or non periodic. How can you tell? \n"
   ]
  },
  {
   "cell_type": "markdown",
   "id": "2701d851-1c5c-4c78-b554-518bea759dc0",
   "metadata": {},
   "source": [
    "\n",
    "Are you able to identify any frequency components, looking at the signal in the time domain?\n"
   ]
  },
  {
   "cell_type": "markdown",
   "id": "5ff1ca3a-5bd0-4e71-8548-7538a4e8075d",
   "metadata": {},
   "source": [
    "\n",
    "The code below when run will read the signal into the notebook and display the FFT of it. Discuss the advantage of being able to view this signal in the frequency domain."
   ]
  },
  {
   "cell_type": "code",
   "execution_count": null,
   "id": "c6cef21e-804c-418a-992b-6db0a4f72a76",
   "metadata": {
    "editable": true,
    "slideshow": {
     "slide_type": ""
    },
    "tags": []
   },
   "outputs": [],
   "source": [
    "from scipy.io import wavfile\n",
    "from scipy import fft, signal\n",
    "import matplotlib.pyplot as plt\n",
    "import numpy as np\n",
    "\n",
    "filename = \"data/mystery.wav\"\n",
    "\n",
    "fs, signal = wavfile.read(filename)\n",
    "\n",
    "signal = signal / 32767  # 2**15 - 1\n",
    "\n",
    "Y = fft.fft(signal) / len(signal)\n",
    "\n",
    "f = fs / len(Y) * np.linspace(0, (len(Y) - 1), len(Y))\n",
    "\n",
    "fig, ax1 = plt.subplots(tight_layout=True)\n",
    "ax1.stem(f, np.abs(Y))  # display the filtered waveform\n",
    "ax1.grid()\n",
    "ax1.set_title(\"FFT of Mystery Signal\")\n",
    "ax1.set_xlabel(\"Frequency (Hz)\")\n",
    "ax1.set_ylabel(\"Harmonic amplitude\")"
   ]
  },
  {
   "cell_type": "markdown",
   "id": "9e948a4b-b1f3-48fe-ae2e-38662ebb62a4",
   "metadata": {},
   "source": [
    "*What is advantage of viewing signal in frequency domain*"
   ]
  },
  {
   "cell_type": "markdown",
   "id": "c0755698-3b0d-44d0-8907-052bce656c1a",
   "metadata": {
    "editable": true,
    "slideshow": {
     "slide_type": ""
    },
    "tags": []
   },
   "source": [
    "## Fourier Synthesis\n",
    "\n",
    "Fourier synthesis is the process of building a waveform from its weighted frequency components — think back to Workshop 1.\n",
    "Write your own code to construct a waveform from the spectral components you found in above, using the principle of superposition. How similar is your synthesized waveform to the original \"mystery\" waveform?\n",
    "\n",
    "Use SciPy’s inverse transform, `ifft`, to synthesize a waveform from the values in Y. How close to the original is this result? Explain your answers.\n"
   ]
  },
  {
   "cell_type": "code",
   "execution_count": null,
   "id": "c3c27e14-cee3-4fd2-bfd2-2e58ecb9a82d",
   "metadata": {},
   "outputs": [],
   "source": [
    "# code for synthesizing"
   ]
  },
  {
   "cell_type": "markdown",
   "id": "dadc25c4-1ddb-4cb8-a933-770c79661a5a",
   "metadata": {},
   "source": [
    "*Answers*"
   ]
  },
  {
   "cell_type": "markdown",
   "id": "58b003c4-2136-45cc-a2d9-85c0529d08b7",
   "metadata": {},
   "source": [
    "## Comparison of FFT with idealized theory\n",
    "\n",
    "Choose a waveform where you can calculate the theoretical components using mathematics (you could use an example from Workshop 1). Use SciPy/NumPy functions to create a few cycles of your chosen waveform and to acquire its FFT. How well do your results agree with the “textbook” theory? Does the length of your sample make a difference?"
   ]
  },
  {
   "cell_type": "code",
   "execution_count": null,
   "id": "4cbd870d-cabd-4fd9-9c18-f2a834f67023",
   "metadata": {},
   "outputs": [],
   "source": [
    "# code"
   ]
  },
  {
   "cell_type": "markdown",
   "id": "2303d638-e2ee-4df7-9490-37e2b67cf450",
   "metadata": {},
   "source": [
    "*Answers*\n"
   ]
  },
  {
   "cell_type": "markdown",
   "id": "6b148852-0709-4cff-9f9f-57c2f3d26133",
   "metadata": {},
   "source": [
    "## Fourier transform of a single rectangular pulse\n",
    "\n",
    "Use Python to explore the frequency spectrum of a single rectangular pulse. Sketch the typical shape of the frequency response. What name(s) is/are given to this shape? How does it change when you vary the pulse width?"
   ]
  },
  {
   "cell_type": "code",
   "execution_count": null,
   "id": "f933ef71-dc1f-428a-8122-757cf3318dff",
   "metadata": {},
   "outputs": [],
   "source": [
    "# code"
   ]
  },
  {
   "cell_type": "markdown",
   "id": "d914b804-d098-4939-bbba-5bfc7dc83303",
   "metadata": {},
   "source": [
    "*Answers*"
   ]
  },
  {
   "cell_type": "markdown",
   "id": "61b3b9a4-6aa5-47cb-8019-9710886c8ad1",
   "metadata": {},
   "source": [
    "## Further work\n",
    "\n",
    "The following sections are suggestions for further work that will enable you to gain more marks for this workshop."
   ]
  },
  {
   "cell_type": "markdown",
   "id": "ed3daaff-b539-425a-9bd8-e85639dde11d",
   "metadata": {},
   "source": [
    "## Windowing\n",
    "\n",
    "Repeat your investigation in the comparison of FFT with idealized theory above using a window function before performing the `fft`. What difference does this make? Discuss your results."
   ]
  },
  {
   "cell_type": "code",
   "execution_count": null,
   "id": "95882d1d-753c-4257-93a6-bad43088a840",
   "metadata": {},
   "outputs": [],
   "source": [
    "# code"
   ]
  },
  {
   "cell_type": "markdown",
   "id": "4b1691cd-ce71-4baa-9f1e-7e3bbeb05ebe",
   "metadata": {},
   "source": [
    "*Answers*"
   ]
  },
  {
   "cell_type": "markdown",
   "id": "af0bc9f7-2719-4bdd-b415-a862244222f6",
   "metadata": {},
   "source": [
    "## Real world applications of the FFT\n",
    "\n",
    "Choose one (or a few) interesting real-world signals to investigate using the FFT. You could find some free audio samples and look at musical sounds with a relatively pure, clear pitch. You could compare more complex musical timbres. You could look at types of noise used for electronic testing. Or signals from the natural world, earthquakes, cats, whales…..\n",
    "\n",
    "Provide images of your signals in both the time domain and the frequency domain and discuss the features that can be identified in each domain.\n"
   ]
  },
  {
   "cell_type": "code",
   "execution_count": null,
   "id": "173eb781-b9ed-4b60-bc92-5fed75d6aa0d",
   "metadata": {},
   "outputs": [],
   "source": [
    "# code"
   ]
  },
  {
   "cell_type": "markdown",
   "id": "328a09d2-b7e5-4633-9012-f46de46ae7bf",
   "metadata": {},
   "source": [
    "*Answers*"
   ]
  },
  {
   "cell_type": "markdown",
   "id": "93a5b236-9bec-4dad-878c-7b3e742208fd",
   "metadata": {},
   "source": [
    "## Two-dimensional FFT\n",
    "\n",
    "Investigate the use of a two-dimensional FFT to analyze the frequency content of a black and white image. Discuss some of the potential applications of this technique.\n"
   ]
  },
  {
   "cell_type": "code",
   "execution_count": null,
   "id": "ae6f3143-3658-4b12-8252-ffbab2495c1e",
   "metadata": {},
   "outputs": [],
   "source": [
    "# code"
   ]
  },
  {
   "cell_type": "markdown",
   "id": "4ce83b2c-9fe0-4f41-86b9-9278d5bae798",
   "metadata": {},
   "source": [
    "*Answers*\n"
   ]
  },
  {
   "cell_type": "markdown",
   "id": "eb45966a-e00a-4d97-8c5b-5eaf555fda07",
   "metadata": {},
   "source": [
    "## Timing considerations\n",
    "\n",
    "For your chosen examples in two sections above, discuss the need for speed in a real-time scenario. How quickly could the fft be executed on the practical platforms that are currently available. Does the FFT live up to its name?\n"
   ]
  },
  {
   "cell_type": "markdown",
   "id": "9b9f1879-a31e-4717-91e5-780eb5bb60f1",
   "metadata": {},
   "source": [
    "*Answers*"
   ]
  }
 ],
 "metadata": {
  "kernelspec": {
   "display_name": "jupyter",
   "language": "python",
   "name": "python3"
  },
  "language_info": {
   "codemirror_mode": {
    "name": "ipython",
    "version": 3
   },
   "file_extension": ".py",
   "mimetype": "text/x-python",
   "name": "python",
   "nbconvert_exporter": "python",
   "pygments_lexer": "ipython3",
   "version": "3.13.2"
  }
 },
 "nbformat": 4,
 "nbformat_minor": 5
}
