{
 "cells": [
  {
   "cell_type": "markdown",
   "id": "4ff8c59b-093b-4a6d-b265-bec433e0d18c",
   "metadata": {},
   "source": [
    "# Workshop 3: IIR and FIR filter Design\n",
    "\n",
    "## Introduction\n",
    "\n",
    "This workshop explores some key concepts in digital filter design. It assumes that you are already familiar with the main characteristics of filters (low-pass, high-pass, band-pass, band-stop, order, cut-off frequency, Bode plots, magnitude, phase, ripple, roll-off…….etc.) and that you can already compare some alternative analog filter designs (e.g. Butterworth, Chebychev, Bessel). If you are unsure of these terms then do research them before continuing.\n",
    "\n",
    "The workshop builds on this knowledge to look at key differences between the two important categories of filter that can be implemented with DSP techniques: FIR and IIR. So by the end of this lab you will be able to:\n",
    "\n",
    "* Explain the meaning of “FIR filter” and “IIR filter”.\n",
    "* Critically evaluate their relative advantages and disadvantages with respect to some typical applications.\n",
    "\n",
    "In this notebook we are going to look at how to use [`numpy`](https://numpy.org) and [`scipy`](https://scipy.org/) which are Python packages that add mathmetical and scientific tools to Python. [`numpy`](https://numpy.org/doc/stable/user/numpy-for-matlab-users.html) has a specific guide in using it for Matlab users \n"
   ]
  },
  {
   "cell_type": "markdown",
   "id": "3ea831bf-aacb-42dc-8709-41ffc4aebf9e",
   "metadata": {},
   "source": [
    "## Filter design tools\n",
    "\n",
    "For a very wide range of applications nowadays, engineers can take advantage of user-friendly, often free, software tools which quickly produce an optimum filter design to meet their specific requirements. `scipy` provides [filter design](https://docs.scipy.org/doc/scipy/tutorial/signal.html#filter-design) tools similar to those found in Matlab which are freeware and therefore increasingly popular in use.\n",
    "\n",
    "Looking at the `scipy` [Signal processing](https://docs.scipy.org/doc/scipy/reference/signal.html#filter-design) reference API find out what the following commands do:\n",
    "\n",
    "* `butter` and `buttord`\n",
    "* `ellip` and `ellipord`\n",
    "* `firwin` and `kaiserord`\n",
    "\n",
    "You can also look at the general filter design documentation which gives examples of some of these functions in use."
   ]
  },
  {
   "cell_type": "markdown",
   "id": "04951d3b-d610-419a-bc55-9c89cdde465d",
   "metadata": {},
   "source": [
    "### Answers\n",
    "\n",
    "* `butter`\n",
    "* `butterord`\n",
    "* `ellip`\n",
    "* `ellipord`\n",
    "* `firwin`\n",
    "* `kaiserord`\n"
   ]
  },
  {
   "cell_type": "markdown",
   "id": "bb514bcf-fcf8-4ddc-bb35-374393a076cc",
   "metadata": {},
   "source": [
    "## Digital Butterworth filter\n",
    "\n",
    "A general IIR filter is given by transfer function of: \n",
    "\n",
    "$$\n",
    " H(z)=\\dfrac{\\sum_0^M b_i z^{-i}}{1+\\sum_0^N a_j z^{-j}}\n",
    "$$\n",
    "\n",
    "Use the `butter` command to generate a 2nd order low-pass Butterworth filter with a cut-off frequency of 40Hz and a sampling requency of 500Hz - in the code below you will need to assign the correct values to N and Wn  before you ."
   ]
  },
  {
   "cell_type": "code",
   "execution_count": null,
   "id": "5bf2a9da-b3a5-4188-a971-7f57899f0527",
   "metadata": {
    "editable": true,
    "slideshow": {
     "slide_type": ""
    },
    "tags": []
   },
   "outputs": [],
   "source": [
    "from scipy import signal\n",
    "import matplotlib.pyplot as plt\n",
    "import numpy as np\n",
    "\n",
    "# initialise values\n",
    "Fs = 500\n",
    "N = 2\n",
    "Wn = 40\n",
    "\n",
    "# get values for coefficients\n",
    "b, a = signal.butter(N, Wn, \"low\", fs=Fs)\n",
    "\n",
    "# get system for designed filter\n",
    "sys = signal.dlti(b, a)\n",
    "# Calculate impulse response\n",
    "t, y = signal.dimpulse(sys, n=1500)\n",
    "hb = np.squeeze(y)\n",
    "t = t * 1 / Fs\n",
    "fig, ax2 = plt.subplots(tight_layout=True)\n",
    "ax2.plot(t, hb, \"b\", alpha=0.75)\n",
    "ax2.grid()\n",
    "ax2.set_title(\n",
    "    f\"Impulse Response of order 2 Butterworth IIR Filter\"\n",
    "    + f\"($F_c={Wn}$ Hz)\"\n",
    ")\n",
    "ax2.set_ylabel(\"Amplitude(dB)\", color=\"C0\")\n",
    "ax2.set(xlabel=\"time (s)\", xlim=(0, 1))\n",
    "\n",
    "# Calculate frequency response of filter\n",
    "w, h = signal.freqz(b, a, worN=1024, fs=Fs)\n",
    "# plot frequency response\n",
    "fig, ax1 = plt.subplots(tight_layout=True)\n",
    "ax1.grid()\n",
    "ax1.set_title(\n",
    "    f\"Frequency Response of order 2 Butterworth IIR Filter\"\n",
    "    + f\"($F_c={Wn}$ Hz)\"\n",
    ")\n",
    "ax1.axvline(50, color=\"black\", linestyle=\":\", linewidth=0.8)\n",
    "ax1.plot(w, 20 * np.log10(abs(h)), \"C0\")\n",
    "ax1.set_ylabel(\"Amplitude(dB)\", color=\"C0\")\n",
    "ax1.set(xlabel=\"Frequency (Hz)\", xlim=(0, Fs / 2))"
   ]
  },
  {
   "cell_type": "markdown",
   "id": "6b7f2b8f-c7c6-4c11-b32d-4ee603e89240",
   "metadata": {},
   "source": [
    "Check that the features of the filter agree with what you expect. \n",
    "\n",
    "Is this an FIR or IIR filter? \n",
    "\n",
    "How do you know? "
   ]
  },
  {
   "cell_type": "markdown",
   "id": "d60efbaf-e7d4-441d-b1bf-ff51ae545cf4",
   "metadata": {},
   "source": [
    "## Filtering by Convolution in the Time Domain\n",
    "\n",
    "The time domain signal above shows contains a physiological signal buried in high frequency noise as can be seen from the signal spectrum. Therefore we need to filter the signal using a lowpass filter to remove the high frequency noise. \n",
    "\n",
    "To load the signal into MATLAB make sure you have downloaded the medical signal.dat file from My Beckett and that your current working directory on MATLAB is wherever that signal is. Then use the code below (adding to previous code): "
   ]
  },
  {
   "cell_type": "code",
   "execution_count": null,
   "id": "361b8dec-489e-4851-9527-46dc463a611f",
   "metadata": {},
   "outputs": [],
   "source": [
    "xmed = np.loadtxt(\"data/medical_signal.dat\")\n",
    "T = 1 / Fs\n",
    "L = len(xmed)\n",
    "print(L)\n",
    "t = np.linspace(0, ((L - 1) * T), L)  # Time vector\n",
    "\n",
    "fig, ax1 = plt.subplots(tight_layout=True)\n",
    "ax1.plot(1000 * t, xmed)\n",
    "ax1.grid()\n",
    "ax1.set_title(\"Medical Signal\")\n",
    "ax1.set_ylabel(\"xmed\", color=\"C0\")\n",
    "ax1.set(xlabel=\"time (ms)\", xlim=(0, 3000))"
   ]
  },
  {
   "cell_type": "code",
   "execution_count": null,
   "id": "15412702-0905-4773-a0df-0e1e845e45e5",
   "metadata": {},
   "outputs": [],
   "source": [
    "# from pytictoc import TicToc\n",
    "# timer = TicToc()\n",
    "\n",
    "# timer.tic()\n",
    "y4 = signal.convolve(xmed, hb)\n",
    "# perform convolution with your Butterworth filter\n",
    "# timer.toc()\n",
    "fig, ax1 = plt.subplots(tight_layout=True)\n",
    "ax1.plot(\n",
    "    1000 * t, np.real(y4[1:1501])\n",
    ")  # display the filtered waveform\n",
    "ax1.grid()\n",
    "ax1.set_title(\"Time Domain Filtered Medical Signal\")\n",
    "ax1.set_ylabel(\"xmed filtered\", color=\"C0\")\n",
    "ax1.set(xlabel=\"time (ms)\", xlim=(0, 3000))"
   ]
  },
  {
   "cell_type": "markdown",
   "id": "1405f92d-cb32-463b-a185-d3a39d26ae99",
   "metadata": {},
   "source": [
    "Has the filter worked as expected? "
   ]
  },
  {
   "cell_type": "markdown",
   "id": "27d78396-7a72-4b32-9ca7-83144042a8b5",
   "metadata": {},
   "source": [
    "## Filtering by Multiplication in the Frequency Domain \n",
    "\n",
    "An alternative method to filter the signal is to transform it into the frequency domain, multiply by the filter frequency response and then transform back into the time domain. This might sound like a very roundabout way of doing things, but it is actually very practicable, as we shall see. You can use the code below as a guide to what is needed (this needs to ensure the medical signal data is loaded as xmed). "
   ]
  },
  {
   "cell_type": "code",
   "execution_count": null,
   "id": "cca75ead-c061-4d7f-91ec-41b5371e145d",
   "metadata": {},
   "outputs": [],
   "source": [
    "from scipy import fft\n",
    "\n",
    "X5 = fft.fft(xmed) / len(xmed)\n",
    "f = Fs / len(X5) * np.linspace(0, (len(X5) - 1), len(X5))\n",
    "\n",
    "fig, ax1 = plt.subplots(tight_layout=True)\n",
    "ax1.plot(f, np.abs(X5))  # display the filtered waveform\n",
    "ax1.grid()\n",
    "ax1.set_title(\"FFT of Mystery Signal\")"
   ]
  },
  {
   "cell_type": "code",
   "execution_count": null,
   "id": "4ca6f513-9361-4f87-b883-8f30238e0ee8",
   "metadata": {},
   "outputs": [],
   "source": [
    "HBC = fft.fft(hb) / len(hb)\n",
    "HBR = HBC.transpose()\n",
    "f = Fs / len(HBR) * np.linspace(0, (len(HBR) - 1), len(HBR))\n",
    "\n",
    "fig, ax1 = plt.subplots(tight_layout=True)\n",
    "ax1.plot(f, np.abs(HBR))  # display the filtered waveform\n",
    "ax1.grid()\n",
    "ax1.set_title(\"FFT of Filter Impulse Repsonse\")"
   ]
  },
  {
   "cell_type": "code",
   "execution_count": null,
   "id": "89746457-ca42-4a34-9e6e-2d090d9b7435",
   "metadata": {},
   "outputs": [],
   "source": [
    "Y5 = X5 * HBR\n",
    "\n",
    "fig, ax1 = plt.subplots(tight_layout=True)\n",
    "ax1.plot(f, np.real(Y5))  # display the filtered waveform\n",
    "ax1.grid()\n",
    "ax1.set_title(\"Frequency domain multiplication\")"
   ]
  },
  {
   "cell_type": "code",
   "execution_count": null,
   "id": "084eefa3-4b7f-4c84-baf1-bee2883eebed",
   "metadata": {},
   "outputs": [],
   "source": [
    "y5 = fft.ifft(Y5) * (len(Y5) * len(Y5))\n",
    "\n",
    "fig, ax1 = plt.subplots(tight_layout=True)\n",
    "ax1.plot(\n",
    "    1000 * t, np.real(y5)\n",
    ")  # display the filtered waveform\n",
    "ax1.grid()\n",
    "ax1.set_title(\"Frequency Domain Filtered Medical Signal\")\n",
    "ax1.set_ylabel(\"xmed\", color=\"C0\")\n",
    "ax1.set(xlabel=\"time (ms)\", xlim=(0, 3000))"
   ]
  },
  {
   "attachments": {},
   "cell_type": "markdown",
   "id": "a1b541fb-d249-4d7f-8a6a-5e80ac673338",
   "metadata": {},
   "source": [
    "Compare the results of filtering in time and frequency domains. The should confirm that:\n",
    "\n",
    "<img src=\"images/workshop3figs-1.png\" width=600 alt=\"Convolution in time domain is equivalent to multiplication in frequency domain\">"
   ]
  },
  {
   "cell_type": "markdown",
   "id": "2f21b74b-83bc-4973-948a-822c526f1001",
   "metadata": {},
   "source": [
    "## Further Work\n",
    "\n",
    "The next two sections are further work sections that will enable you to gian mroe than just a threshold pass for this workshop.\n",
    "\n",
    "## FIR filter comparison\n",
    "\n",
    "Repeat the work done above using the Butterworth filter for an equivalent FIR filter. What differences do you notice?"
   ]
  },
  {
   "cell_type": "code",
   "execution_count": null,
   "id": "dd359dc1-ca18-453a-867f-37c2c254a290",
   "metadata": {},
   "outputs": [],
   "source": [
    "# code for FIR filter\n",
    "from scipy import signal, fft\n",
    "import matplotlib.pyplot as plt\n",
    "import numpy as np\n",
    "\n",
    "# initialize values\n",
    "Fs = 500\n",
    "N = 2\n",
    "Wn = 40"
   ]
  },
  {
   "cell_type": "markdown",
   "id": "512b5192-e34c-4f71-8857-2c431bc491ee",
   "metadata": {},
   "source": [
    "What are the differences?"
   ]
  },
  {
   "cell_type": "markdown",
   "id": "a95448f7-ea91-45c2-bd2f-fd98558178f0",
   "metadata": {},
   "source": [
    "## Comparing processing speed for real-time filtering\n",
    "\n",
    "Looking at the documentation for [pytictoc](https://pypi.org/project/pytictoc/) Python module work out how to time the speed of esecution of the filters in the sections above in the context of this medical signal processing example and critically evaluate the results. Remember that you should only consider the sections of code that would be involved in real-time processing of the physiological signal --- so can assume impusle response and FFT of the filter are already known - it is just the input signal that needs to be processed using the filter. You should also consider combining the sections of code together and do the plots at end for better timing.\n",
    "\n"
   ]
  },
  {
   "cell_type": "code",
   "execution_count": null,
   "id": "2192e80a-47e1-4228-99e8-4240e1729b5c",
   "metadata": {},
   "outputs": [],
   "source": []
  }
 ],
 "metadata": {
  "kernelspec": {
   "display_name": "Python 3 (ipykernel)",
   "language": "python",
   "name": "python3"
  },
  "language_info": {
   "codemirror_mode": {
    "name": "ipython",
    "version": 3
   },
   "file_extension": ".py",
   "mimetype": "text/x-python",
   "name": "python",
   "nbconvert_exporter": "python",
   "pygments_lexer": "ipython3",
   "version": "3.13.5"
  }
 },
 "nbformat": 4,
 "nbformat_minor": 5
}
